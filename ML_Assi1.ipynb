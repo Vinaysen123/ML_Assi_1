{
  "nbformat": 4,
  "nbformat_minor": 0,
  "metadata": {
    "colab": {
      "provenance": []
    },
    "kernelspec": {
      "name": "python3",
      "display_name": "Python 3"
    },
    "language_info": {
      "name": "python"
    }
  },
  "cells": [
    {
      "cell_type": "markdown",
      "source": [
        "Q1- Explain the following with an example:\n",
        "\n",
        "a. Artificial Intelligence - AI refer to develop a software in which a computer or a robot can perform task just like human . They have ability to think like human ,  problem solving skill and their computation skill are very fast . AI is a superset of all ML , Deep learning , Data_Science .\n",
        "\n",
        "for example : Robot , Chatgpt , google photos , google translator , netflix recommendations , etc .\n",
        "\n",
        "b. Machine learning - ML is a subset of AI . In ML , we use various ML algoritms on our dataset and predict the output just likely towards actual output .\n",
        "\n",
        "There are four type of ML :          \n",
        "\n",
        "1. Supervisied ML\n",
        "2. Unsupervisied ML\n",
        "3. Semi-supervisied ML\n",
        "4. Reinforcement ML\n",
        "\n",
        "example : fraud detection , spam detection , health_care diagnosis , for manufacture of items , and some insides of our data , etc .    \n",
        "\n",
        "c. Deep Learning - DL is a subset of ML . In the DL , we use a neural network ,smallest unit called perceptron and multi_layer perceptron is used to predict the correct output . we can learn from our mistake in DL . we also seperate a non_linear problem by the help of Dl .\n",
        "\n",
        "ex :  Image recognition , Natural language processing , speech recognition , etc .\n",
        "         "
      ],
      "metadata": {
        "id": "Jyj0L34yRFRr"
      }
    },
    {
      "cell_type": "markdown",
      "source": [
        "Q2 - What is supervised learning ? List some examples of supervised learning.\n",
        "\n",
        "Ans2 : supervised learning is a type of ML in which we have a dataset and then we train , test on our ML model . In dataset , there are some independent features and one dependent features . we use different algo to train our model likely - linear regression , logistics regression , decision tree , support vector machine , etc . all are ML algoritms .\n",
        "\n",
        "example : predict the house price , predict the student is pass/fail , predict the team india is winning or not , etc .  "
      ],
      "metadata": {
        "id": "5w7JTdQGRFJT"
      }
    },
    {
      "cell_type": "markdown",
      "source": [
        "Q3- What is unsupervised learning ? List some examples of unsupervised learning .\n",
        "\n",
        "Ans3 : unsupervised learning have own dataset and they can make a cluster or group and help to some futuristics decision . We can also generate pattern and analysis without any labelling .\n",
        "\n",
        "example : IN the shopping mall , there are different type of customer comes . some of them are regularly shopping a high expensive things . some of them are shops a low or medium range expenses things . so ,we can make a cluster of people , so we can target our customers ."
      ],
      "metadata": {
        "id": "fKcp0dufRE-s"
      }
    },
    {
      "cell_type": "markdown",
      "source": [
        "Q4 - What is the different between AI, ML, DL, and DS ?\n",
        "\n",
        "Ans4 : AI : it is a superset of all ML , DL , DS .\n",
        "\n",
        "       ML : it is a subset of AI and superset of DL .\n",
        "\n",
        "       DL : it is a subset of AI , ML .\n",
        "\n",
        "       DS : it is include some part of ML , DL , AI ."
      ],
      "metadata": {
        "id": "kqE3c6Y0REss"
      }
    },
    {
      "cell_type": "markdown",
      "source": [
        "Q4- What is the difference between supervised , unsupervised and semi_supervised algo ?\n",
        "\n",
        "Ans4 : supervised ML :  supervised learning is a type of ML in which we have a dataset and then we train , test on our ML model . In dataset , there are some independent features and one dependent features . we use different algo to train our model likely - linear regression , logistics regression , decision tree , support vector machine , etc . all are ML algoritms .\n",
        "\n",
        "unsupervised ML : unsupervised learning have own dataset and they can make a cluster or group and help to some futuristics decision . We can also generate pattern and analysis without any labelling .\n",
        "\n",
        "semi_supervised ML : it is the sum of supervisied and unsupervised ML ."
      ],
      "metadata": {
        "id": "-KZOf-7amJUa"
      }
    },
    {
      "cell_type": "markdown",
      "source": [
        "Q5- what is train , test and validation split ? Explain the importance of each term .\n",
        "\n",
        "Ans5 : Training split - we can split our dataset into two major part . one is train data and other is test data . The train dataset are split in another two part one is train_dataset and other is validation_dataset .\n",
        "\n",
        "Test split - The test_dataset are always hide from the model . The Dataset are split into a 80 % - 20 % model .\n",
        "\n",
        "Validation_split : we can Train our model and check accuracy on validation data .  "
      ],
      "metadata": {
        "id": "bqHtxLN5m3lZ"
      }
    },
    {
      "cell_type": "markdown",
      "source": [
        "Q6 - How can unsupervisied ML used in anamoly detection ?\n",
        "\n",
        "Ans6 - Unsupervised learning is commonly used in anomaly detection, where the goal is to identify patterns that deviate from the usual behavior within a dataset. Anomaly detection is crucial in various applications such as fraud detection, network security, system monitoring, and quality control .\n",
        "\n",
        "example - clustering , normal behaviour modelling , density estimator , autoencoding , etc."
      ],
      "metadata": {
        "id": "v946_VY4m3h1"
      }
    },
    {
      "cell_type": "markdown",
      "source": [
        "Q7- list down some commonly used supervised and unsupervised ML algo ?\n",
        "\n",
        "Ans7- supervised ML - linear regression , logistic regression , support vector machine , Decision tree , k nearest neighbour , rando forset , neural network ,etc\n",
        "\n",
        "unsupervised ML - K_mean clistering , Hierarchical  clustering , DBSCAN , Principal component analysis , etc .       "
      ],
      "metadata": {
        "id": "VmatVgRDm3fz"
      }
    },
    {
      "cell_type": "code",
      "execution_count": null,
      "metadata": {
        "id": "0Qgf6vZKRDzi"
      },
      "outputs": [],
      "source": []
    }
  ]
}